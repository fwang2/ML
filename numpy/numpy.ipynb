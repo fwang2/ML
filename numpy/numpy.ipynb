{
 "cells": [
  {
   "cell_type": "markdown",
   "metadata": {},
   "source": [
    "Learning from:\n",
    "\n",
    "\n",
    "1. Python Data Science Handbook, 2016. Ch. 2\n",
    "\n",
    "\n"
   ]
  },
  {
   "cell_type": "code",
   "execution_count": 2,
   "metadata": {},
   "outputs": [],
   "source": [
    "import numpy as np\n",
    "from IPython.display import display\n",
    "np.random.seed(0) # for reproduce"
   ]
  },
  {
   "cell_type": "markdown",
   "metadata": {},
   "source": [
    "\n",
    "# Array attributes\n",
    "\n",
    "\n",
    "* ndarray is a generic multidimentional container for homegeneous data.\n",
    "\n",
    "```\n",
    ".dtype\n",
    ".shape   \n",
    ".ndim\n",
    ".size \n",
    ".nbytes\n",
    ".itemsize\n",
    "```\n",
    "Generally: `nbytes = size * itemsize`.\n",
    "\n",
    "\n"
   ]
  },
  {
   "cell_type": "markdown",
   "metadata": {},
   "source": [
    "# Create new arrays\n",
    "\n",
    "* np.zeros() \n",
    "* np.ones((2,3))\n",
    "* np.empty()\n",
    "* np.random.randint(10, size=5)\n",
    "* np.random.randint(10, size=(3,4))"
   ]
  },
  {
   "cell_type": "markdown",
   "metadata": {},
   "source": [
    "# 1D Array Indexing and Slicing\n",
    "\n",
    "```\n",
    "x[0]          # First element\n",
    "x[-1]         # Last element\n",
    "x[-2]         # The next to last (counting from right\n",
    "x[:3]         # Grab the first N(3) elements from LEFT \n",
    "x[:-2]        # Grab the last N(2) element from RIGHT \n",
    "x[3:-2]       # Drop first N(3) from LEFT and \n",
    "                 drop last M(2) elements from RIGHT \n",
    "x[::2]        # Every other elements \n",
    "```"
   ]
  },
  {
   "cell_type": "markdown",
   "metadata": {},
   "source": [
    "# 2D Array Indexing and Slicing\n",
    "\n",
    "```\n",
    "x[:, 1]      # ask for all rows, and column 1 \n",
    "x[:2, :3]    # first two rows, three columns\n",
    "x[:3, ::2]   # first three rows, every other columns\n",
    "x[:, 0]      # first column (all rows)\n",
    "x[0, :]      # first row (all columns), which is the same as x[0]\n",
    "\n",
    "```"
   ]
  },
  {
   "cell_type": "markdown",
   "metadata": {},
   "source": [
    "# Array Reshape\n",
    "\n",
    "* array can be reshaped.\n",
    "* A dimension-less array `x = np.array([1, 2, 3])` can be reshaped.\n",
    "\n",
    "    * `x.reshape((1,3))`\n",
    "    * `x[np.newaxis, :]`\n",
    "    * both will give you a row vector\n",
    "    \n",
    "* To reshape to column vector:\n",
    "\n",
    "    * `x.reshape((3,1))`\n",
    "    * `x[:, np.newaxis]`\n",
    "    \n",
    "\n",
    "   "
   ]
  },
  {
   "cell_type": "markdown",
   "metadata": {},
   "source": [
    "\n"
   ]
  },
  {
   "cell_type": "markdown",
   "metadata": {},
   "source": [
    "# Sub-array is a view\n",
    "\n",
    "This is one difference from native Python array/list. ndarray is a view, not a copy. That means, if you modify what is returned, you are changing the original."
   ]
  },
  {
   "cell_type": "markdown",
   "metadata": {},
   "source": [
    "# Array data type and casting\n",
    "\n",
    "np defines a number of data types, such as 'int8', 'int16', 'int32', 'int64', 'float32', 'float64', etc.\n",
    "you can also cast it from one type to another."
   ]
  },
  {
   "cell_type": "code",
   "execution_count": 12,
   "metadata": {},
   "outputs": [
    {
     "data": {
      "text/plain": [
       "array([0, 1, 2, 3, 4, 5, 6, 7, 8, 9])"
      ]
     },
     "execution_count": 12,
     "metadata": {},
     "output_type": "execute_result"
    }
   ],
   "source": [
    "arr = np.arange(10)\n",
    "arr"
   ]
  },
  {
   "cell_type": "code",
   "execution_count": 14,
   "metadata": {},
   "outputs": [
    {
     "data": {
      "text/plain": [
       "array([ 0,  1,  2,  3,  4, 12, 12, 12,  8,  9])"
      ]
     },
     "execution_count": 14,
     "metadata": {},
     "output_type": "execute_result"
    }
   ],
   "source": [
    "# here we assign a scalar value to a slice\n",
    "arr[5:8] = 12\n",
    "arr"
   ]
  },
  {
   "cell_type": "code",
   "execution_count": 15,
   "metadata": {},
   "outputs": [
    {
     "data": {
      "text/plain": [
       "array([20, 20, 20, 20, 20, 20, 20, 20, 20, 20])"
      ]
     },
     "execution_count": 15,
     "metadata": {},
     "output_type": "execute_result"
    }
   ],
   "source": [
    "# [:] bare slice will assign to all values in an array\n",
    "arr[:] = 20\n",
    "arr"
   ]
  },
  {
   "cell_type": "code",
   "execution_count": 16,
   "metadata": {},
   "outputs": [
    {
     "data": {
      "text/plain": [
       "array([20, 20])"
      ]
     },
     "execution_count": 16,
     "metadata": {},
     "output_type": "execute_result"
    }
   ],
   "source": [
    "arr_slice = arr[1:3]\n",
    "arr_slice"
   ]
  },
  {
   "cell_type": "code",
   "execution_count": 17,
   "metadata": {},
   "outputs": [
    {
     "data": {
      "text/plain": [
       "array([20, 10, 10, 20, 20, 20, 20, 20, 20, 20])"
      ]
     },
     "execution_count": 17,
     "metadata": {},
     "output_type": "execute_result"
    }
   ],
   "source": [
    "# here we change the slice itself, and the changes get reflected to the orignal array\n",
    "arr_slice[:] = 10\n",
    "arr\n"
   ]
  },
  {
   "cell_type": "markdown",
   "metadata": {},
   "source": [
    "# Array Concatenation and Split\n",
    "\n",
    "* see hstack, vstack"
   ]
  },
  {
   "cell_type": "code",
   "execution_count": 15,
   "metadata": {},
   "outputs": [
    {
     "data": {
      "text/plain": [
       "(2, 3)"
      ]
     },
     "execution_count": 15,
     "metadata": {},
     "output_type": "execute_result"
    }
   ],
   "source": [
    "import numpy as np\n",
    "x = np.array([1,2,3])\n",
    "y = np.array([[4,5,6],\n",
    "            [7,8,9]])\n",
    "y.shape"
   ]
  },
  {
   "cell_type": "code",
   "execution_count": 16,
   "metadata": {},
   "outputs": [
    {
     "data": {
      "text/plain": [
       "array([[1, 2, 3],\n",
       "       [4, 5, 6],\n",
       "       [7, 8, 9]])"
      ]
     },
     "execution_count": 16,
     "metadata": {},
     "output_type": "execute_result"
    }
   ],
   "source": [
    "np.vstack([x,y])"
   ]
  },
  {
   "cell_type": "code",
   "execution_count": 20,
   "metadata": {},
   "outputs": [
    {
     "data": {
      "text/plain": [
       "array([[ 4,  5,  6, 99],\n",
       "       [ 7,  8,  9, 99]])"
      ]
     },
     "execution_count": 20,
     "metadata": {},
     "output_type": "execute_result"
    }
   ],
   "source": [
    "z = np.array([[99],\n",
    "              [99]])\n",
    "\n",
    "np.hstack([y,z])"
   ]
  },
  {
   "cell_type": "code",
   "execution_count": 18,
   "metadata": {},
   "outputs": [
    {
     "data": {
      "text/plain": [
       "array([[1, 2, 3],\n",
       "       [4, 5, 6]])"
      ]
     },
     "execution_count": 18,
     "metadata": {},
     "output_type": "execute_result"
    }
   ],
   "source": [
    "x = np.arange(1,7).reshape(2,3)\n",
    "x"
   ]
  },
  {
   "cell_type": "code",
   "execution_count": 10,
   "metadata": {},
   "outputs": [
    {
     "data": {
      "text/plain": [
       "array([[1, 2, 3],\n",
       "       [4, 5, 6],\n",
       "       [1, 2, 3],\n",
       "       [4, 5, 6]])"
      ]
     },
     "execution_count": 10,
     "metadata": {},
     "output_type": "execute_result"
    }
   ],
   "source": [
    "np.concatenate([x,x])"
   ]
  },
  {
   "cell_type": "code",
   "execution_count": 11,
   "metadata": {},
   "outputs": [
    {
     "data": {
      "text/plain": [
       "array([[1, 2, 3, 1, 2, 3],\n",
       "       [4, 5, 6, 4, 5, 6]])"
      ]
     },
     "execution_count": 11,
     "metadata": {},
     "output_type": "execute_result"
    }
   ],
   "source": [
    "np.concatenate([x,x], axis=1)"
   ]
  },
  {
   "cell_type": "markdown",
   "metadata": {},
   "source": [
    "# Array of Boolean and Mask"
   ]
  },
  {
   "cell_type": "code",
   "execution_count": 21,
   "metadata": {},
   "outputs": [],
   "source": [
    "import numpy as np\n",
    "summer = (np.arange(365) - 172 < 90) & (np.arange(365) - 172 > 0)"
   ]
  },
  {
   "cell_type": "code",
   "execution_count": 48,
   "metadata": {},
   "outputs": [
    {
     "data": {
      "text/plain": [
       "array([-5, -4, -3, -2, -1,  0,  1,  2,  3,  4])"
      ]
     },
     "execution_count": 48,
     "metadata": {},
     "output_type": "execute_result"
    }
   ],
   "source": [
    "points = np.arange(-5, 5)\n",
    "points"
   ]
  },
  {
   "cell_type": "code",
   "execution_count": 49,
   "metadata": {},
   "outputs": [
    {
     "data": {
      "text/plain": [
       "array([[-5, -4, -3, -2, -1,  0,  1,  2,  3,  4],\n",
       "       [-5, -4, -3, -2, -1,  0,  1,  2,  3,  4],\n",
       "       [-5, -4, -3, -2, -1,  0,  1,  2,  3,  4],\n",
       "       [-5, -4, -3, -2, -1,  0,  1,  2,  3,  4],\n",
       "       [-5, -4, -3, -2, -1,  0,  1,  2,  3,  4],\n",
       "       [-5, -4, -3, -2, -1,  0,  1,  2,  3,  4],\n",
       "       [-5, -4, -3, -2, -1,  0,  1,  2,  3,  4],\n",
       "       [-5, -4, -3, -2, -1,  0,  1,  2,  3,  4],\n",
       "       [-5, -4, -3, -2, -1,  0,  1,  2,  3,  4],\n",
       "       [-5, -4, -3, -2, -1,  0,  1,  2,  3,  4]])"
      ]
     },
     "execution_count": 49,
     "metadata": {},
     "output_type": "execute_result"
    }
   ],
   "source": [
    "xs, ys = np.meshgrid(points, points)\n",
    "xs"
   ]
  },
  {
   "cell_type": "code",
   "execution_count": 50,
   "metadata": {},
   "outputs": [
    {
     "data": {
      "text/plain": [
       "array([[-5, -5, -5, -5, -5, -5, -5, -5, -5, -5],\n",
       "       [-4, -4, -4, -4, -4, -4, -4, -4, -4, -4],\n",
       "       [-3, -3, -3, -3, -3, -3, -3, -3, -3, -3],\n",
       "       [-2, -2, -2, -2, -2, -2, -2, -2, -2, -2],\n",
       "       [-1, -1, -1, -1, -1, -1, -1, -1, -1, -1],\n",
       "       [ 0,  0,  0,  0,  0,  0,  0,  0,  0,  0],\n",
       "       [ 1,  1,  1,  1,  1,  1,  1,  1,  1,  1],\n",
       "       [ 2,  2,  2,  2,  2,  2,  2,  2,  2,  2],\n",
       "       [ 3,  3,  3,  3,  3,  3,  3,  3,  3,  3],\n",
       "       [ 4,  4,  4,  4,  4,  4,  4,  4,  4,  4]])"
      ]
     },
     "execution_count": 50,
     "metadata": {},
     "output_type": "execute_result"
    }
   ],
   "source": [
    "ys"
   ]
  },
  {
   "cell_type": "code",
   "execution_count": 51,
   "metadata": {},
   "outputs": [
    {
     "data": {
      "text/plain": [
       "array([[25, 16,  9,  4,  1,  0,  1,  4,  9, 16],\n",
       "       [25, 16,  9,  4,  1,  0,  1,  4,  9, 16],\n",
       "       [25, 16,  9,  4,  1,  0,  1,  4,  9, 16],\n",
       "       [25, 16,  9,  4,  1,  0,  1,  4,  9, 16],\n",
       "       [25, 16,  9,  4,  1,  0,  1,  4,  9, 16],\n",
       "       [25, 16,  9,  4,  1,  0,  1,  4,  9, 16],\n",
       "       [25, 16,  9,  4,  1,  0,  1,  4,  9, 16],\n",
       "       [25, 16,  9,  4,  1,  0,  1,  4,  9, 16],\n",
       "       [25, 16,  9,  4,  1,  0,  1,  4,  9, 16],\n",
       "       [25, 16,  9,  4,  1,  0,  1,  4,  9, 16]])"
      ]
     },
     "execution_count": 51,
     "metadata": {},
     "output_type": "execute_result"
    }
   ],
   "source": [
    "xs**2"
   ]
  },
  {
   "cell_type": "markdown",
   "metadata": {},
   "source": [
    "# Math and Stat Methods"
   ]
  },
  {
   "cell_type": "code",
   "execution_count": 53,
   "metadata": {},
   "outputs": [
    {
     "data": {
      "text/plain": [
       "array([[-0.68526153, -1.35694705, -1.71300452, -0.1088929 ],\n",
       "       [-0.18976062, -0.5529742 ,  1.06027773,  0.28738873],\n",
       "       [-1.98615195, -1.42883851, -2.01439224, -0.36615657],\n",
       "       [ 1.05188858,  0.14833062,  0.35421616,  0.09991926],\n",
       "       [ 0.95672598,  1.43709354, -0.6566138 ,  0.68523887]])"
      ]
     },
     "execution_count": 53,
     "metadata": {},
     "output_type": "execute_result"
    }
   ],
   "source": [
    "arr = np.random.randn(5,4)\n",
    "arr"
   ]
  },
  {
   "cell_type": "code",
   "execution_count": 54,
   "metadata": {},
   "outputs": [
    {
     "data": {
      "text/plain": [
       "array([-0.9660265 ,  0.15123291, -1.44888482,  0.41358865,  0.60561115])"
      ]
     },
     "execution_count": 54,
     "metadata": {},
     "output_type": "execute_result"
    }
   ],
   "source": [
    "# compute mean over all columns (axis=1)\n",
    "arr.mean(axis=1)"
   ]
  },
  {
   "cell_type": "code",
   "execution_count": 55,
   "metadata": {},
   "outputs": [
    {
     "data": {
      "text/plain": [
       "array([-0.17051191, -0.35066712, -0.59390333,  0.11949948])"
      ]
     },
     "execution_count": 55,
     "metadata": {},
     "output_type": "execute_result"
    }
   ],
   "source": [
    "# compute mean over all rows (axis=0)\n",
    "arr.mean(axis=0)"
   ]
  },
  {
   "cell_type": "markdown",
   "metadata": {},
   "source": [
    "# Rules of Broadcasting\n",
    "\n",
    "\n",
    "* Rule 1: If two arrays differs in their number of dimensions, the shape of the one with fewer dimensions is **padded** with ones on its leading (left) side.\n",
    "\n",
    "Note: padding is for dimension tuples.\n",
    "```\n",
    "x.shape = (2, 3)\n",
    "y.shape = (3, )\n",
    "\n",
    "y's dimension needs padding --> after padding on the left with 1, we have\n",
    "y.newshape = (1, 3)\n",
    "```\n",
    "\n",
    "* Rule 2: If the shape of two arrays does not match in ANY dimension, the array with shape equal to 1 in that dimension is **stretched** to match the other shape.\n",
    "\n",
    "Using example above:\n",
    "\n",
    "```\n",
    "Use rule #2, the first dimension disagrees, we will stretch \n",
    "y.newshape = (2, 3)\n",
    "```\n",
    "\n",
    "* Rule 3: If in any dimension the size disagree and neither is equal to 1, an error is raised.\n",
    "\n"
   ]
  },
  {
   "cell_type": "code",
   "execution_count": 24,
   "metadata": {},
   "outputs": [
    {
     "name": "stdout",
     "output_type": "stream",
     "text": [
      "[[1. 1. 1.]\n",
      " [1. 1. 1.]]\n",
      "[0 1 2]\n"
     ]
    }
   ],
   "source": [
    "x = np.ones((2,3))\n",
    "y = np.arange(3)\n",
    "print(x)\n",
    "print(y)"
   ]
  },
  {
   "cell_type": "markdown",
   "metadata": {},
   "source": [
    "# pairwise diff"
   ]
  },
  {
   "cell_type": "code",
   "execution_count": 7,
   "metadata": {},
   "outputs": [],
   "source": [
    "import numpy as np\n",
    "X = np.random.random((5,3))"
   ]
  },
  {
   "cell_type": "code",
   "execution_count": 8,
   "metadata": {},
   "outputs": [
    {
     "data": {
      "text/plain": [
       "array([[0.65257242, 0.11152295, 0.62112462],\n",
       "       [0.7828069 , 0.3480797 , 0.7832907 ],\n",
       "       [0.40614279, 0.91045563, 0.58669911],\n",
       "       [0.85975637, 0.58531391, 0.04023556],\n",
       "       [0.98824861, 0.78657306, 0.16168186]])"
      ]
     },
     "execution_count": 8,
     "metadata": {},
     "output_type": "execute_result"
    }
   ],
   "source": [
    "X"
   ]
  },
  {
   "cell_type": "code",
   "execution_count": 12,
   "metadata": {},
   "outputs": [
    {
     "data": {
      "text/plain": [
       "(5, 3)"
      ]
     },
     "execution_count": 12,
     "metadata": {},
     "output_type": "execute_result"
    }
   ],
   "source": [
    "X.shape"
   ]
  },
  {
   "cell_type": "code",
   "execution_count": 11,
   "metadata": {},
   "outputs": [
    {
     "data": {
      "text/plain": [
       "array([[[0.65257242, 0.11152295, 0.62112462]],\n",
       "\n",
       "       [[0.7828069 , 0.3480797 , 0.7832907 ]],\n",
       "\n",
       "       [[0.40614279, 0.91045563, 0.58669911]],\n",
       "\n",
       "       [[0.85975637, 0.58531391, 0.04023556]],\n",
       "\n",
       "       [[0.98824861, 0.78657306, 0.16168186]]])"
      ]
     },
     "execution_count": 11,
     "metadata": {},
     "output_type": "execute_result"
    }
   ],
   "source": [
    "X.reshape(5,1,3)"
   ]
  },
  {
   "cell_type": "code",
   "execution_count": 14,
   "metadata": {},
   "outputs": [
    {
     "data": {
      "text/plain": [
       "(5, 5, 3)"
      ]
     },
     "execution_count": 14,
     "metadata": {},
     "output_type": "execute_result"
    }
   ],
   "source": [
    "diff = X.reshape(5,1,3) - X\n",
    "diff.shape"
   ]
  },
  {
   "cell_type": "code",
   "execution_count": 15,
   "metadata": {},
   "outputs": [
    {
     "data": {
      "text/plain": [
       "array([[[ 0.        ,  0.        ,  0.        ],\n",
       "        [-0.13023448, -0.23655675, -0.16216609],\n",
       "        [ 0.24642962, -0.79893268,  0.03442551],\n",
       "        [-0.20718395, -0.47379096,  0.58088906],\n",
       "        [-0.33567619, -0.67505011,  0.45944276]],\n",
       "\n",
       "       [[ 0.13023448,  0.23655675,  0.16216609],\n",
       "        [ 0.        ,  0.        ,  0.        ],\n",
       "        [ 0.37666411, -0.56237593,  0.1965916 ],\n",
       "        [-0.07694947, -0.23723421,  0.74305514],\n",
       "        [-0.20544171, -0.43849336,  0.62160884]],\n",
       "\n",
       "       [[-0.24642962,  0.79893268, -0.03442551],\n",
       "        [-0.37666411,  0.56237593, -0.1965916 ],\n",
       "        [ 0.        ,  0.        ,  0.        ],\n",
       "        [-0.45361357,  0.32514173,  0.54646355],\n",
       "        [-0.58210582,  0.12388257,  0.42501725]],\n",
       "\n",
       "       [[ 0.20718395,  0.47379096, -0.58088906],\n",
       "        [ 0.07694947,  0.23723421, -0.74305514],\n",
       "        [ 0.45361357, -0.32514173, -0.54646355],\n",
       "        [ 0.        ,  0.        ,  0.        ],\n",
       "        [-0.12849224, -0.20125916, -0.1214463 ]],\n",
       "\n",
       "       [[ 0.33567619,  0.67505011, -0.45944276],\n",
       "        [ 0.20544171,  0.43849336, -0.62160884],\n",
       "        [ 0.58210582, -0.12388257, -0.42501725],\n",
       "        [ 0.12849224,  0.20125916,  0.1214463 ],\n",
       "        [ 0.        ,  0.        ,  0.        ]]])"
      ]
     },
     "execution_count": 15,
     "metadata": {},
     "output_type": "execute_result"
    }
   ],
   "source": [
    "diff"
   ]
  },
  {
   "cell_type": "code",
   "execution_count": null,
   "metadata": {},
   "outputs": [],
   "source": []
  }
 ],
 "metadata": {
  "kernelspec": {
   "display_name": "Python 3",
   "language": "python",
   "name": "python3"
  },
  "language_info": {
   "codemirror_mode": {
    "name": "ipython",
    "version": 3
   },
   "file_extension": ".py",
   "mimetype": "text/x-python",
   "name": "python",
   "nbconvert_exporter": "python",
   "pygments_lexer": "ipython3",
   "version": "3.7.1"
  }
 },
 "nbformat": 4,
 "nbformat_minor": 2
}
