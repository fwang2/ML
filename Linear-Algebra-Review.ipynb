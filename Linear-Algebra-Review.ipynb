{
 "metadata": {
  "language_info": {
   "codemirror_mode": {
    "name": "ipython",
    "version": 3
   },
   "file_extension": ".py",
   "mimetype": "text/x-python",
   "name": "python",
   "nbconvert_exporter": "python",
   "pygments_lexer": "ipython3",
   "version": 3
  },
  "orig_nbformat": 2,
  "kernelspec": {
   "name": "python_defaultSpec_1596539672119",
   "display_name": "Python 3.8.3 64-bit"
  }
 },
 "nbformat": 4,
 "nbformat_minor": 2,
 "cells": [
  {
   "cell_type": "markdown",
   "metadata": {},
   "source": [
    "# Linear Algebra Review\n",
    "\n",
    "This note looks at Linear Algebra from ML and data analytics point of view."
   ]
  },
  {
   "cell_type": "markdown",
   "metadata": {},
   "source": [
    "\n",
    "\n",
    "## Revisit Matrix \n",
    "\n",
    "One aspect of \"fresh look\" is, not to see matrix vector multiplication as dot product. Instead, see this as a *linear combination* of column vectors.\n",
    "\n",
    "\\begin{align} Ax &= \\begin{bmatrix}\n",
    "                        2 & 5 & 7 \\\\\n",
    "                        3 & 6 & 9 \\\\\n",
    "                        4 & 7 & 11 \\\\\n",
    "                        \\end{bmatrix} \n",
    "                    \n",
    "                        \\begin{bmatrix}\n",
    "                        x_1 \\\\\n",
    "                        x_2 \\\\\n",
    "                        x_3 \\\\\n",
    "                        \\end{bmatrix} \\\\\n",
    "                &= x_1 \\begin{bmatrix}\n",
    "                    2 \\\\\n",
    "                    3 \\\\\n",
    "                    4 \\\\\n",
    "                    \\end{bmatrix} + \\quad\n",
    "                    x_2 \\begin{bmatrix}\n",
    "                    5 \\\\\n",
    "                    6 \\\\\n",
    "                    7 \\\\\n",
    "                    \\end{bmatrix} + \\quad\n",
    "                    x_3 \\begin{bmatrix}\n",
    "                    7 \\\\\n",
    "                    9 \\\\\n",
    "                    11 \\\\\n",
    "                    \\end{bmatrix}\n",
    "\n",
    "\\end{align}\n",
    "\n",
    "\n",
    "\n"
   ]
  },
  {
   "cell_type": "markdown",
   "metadata": {},
   "source": [
    "## Basis vector, column space, and span\n",
    "\n",
    "Matrices have column space and row space. A column space is what can be represented by *ALL* the linear combination of basis vector of that space. It is also called a **span**. A row space, on the other hand, can be see as the column space of the transposed matrix.\n",
    "\n",
    "If the vectors are not basis vector, then the span can be a just point (zero vectors); or a line if two vectors are dependent, or a plane if two out of three are dependent.\n",
    "\n",
    "\n",
    "What is the vector basis? The basis of a vector space is a set of **linearly independent** vectors that **span* the full space.\n",
    "\n",
    "Using above $A$ as an example:\n",
    "\n",
    "\\begin{bmatrix} 2 \\\\ 3 \\\\ 4 \\\\ \\end{bmatrix} and \\begin{bmatrix} 5 \\\\ 6\\\\ 7 \\\\ \\end{bmatrix} are column vector basis. The third one is not, because it is a linear combination of the first two (sum of both).\n",
    "\n",
    "Two extra points:\n",
    "\n",
    "\n",
    "* With that column space in mind, if we pick a random vector $x$, then $Ax$ will in the column space of $A$ - as $Ax$ gives you just one linear combination of columns.\n",
    "\n",
    "* $ABCx = A(BCx) = Ay$, which means $ABCx$ is also in the column space of $A$.\n",
    " \n"
   ]
  },
  {
   "cell_type": "markdown",
   "metadata": {},
   "source": [
    "## Matrices as Linear Transformation\n",
    "\n",
    "A transformation is a function, take something in, spit something out. A linear transformation, visually, is to (1) keep origin in the smae place (2) keep all grid lines straight (no curves) and evenly spaced.\n",
    "\n",
    "\n",
    "One easy example of transformation: rotate the 2-D plane.\n",
    "\n",
    "Given a vector $v$, to deduce how it is transformed, all we need to know is how the basis vectors are transformed, and the vector $v$ will follow the same relationship in the new transformed coordinate space.\n",
    "\n",
    "The following figure gives an example of linear transform in 2-D space: $\\hat{i}$ and $\\hat{j}$ are basis vectors, and its position in the new transformed plane. Given any vector $\\begin{bmatrix} x \\\\ y \\end{bmatrix}$, we can calculate its new position using the $\\hat{i}$ and $\\hat{j}$ information.\n",
    "\n",
    "\n",
    "![linear transform](figs/linear1.png)\n",
    "\n",
    "\n",
    "More generally, in 2x2 matrix, this can be summarized as:\n",
    "\n",
    "![linear transform](figs/linear2.png)\n",
    "\n",
    "But the idea is the same for higher dimensions.\n",
    "\n"
   ]
  },
  {
   "cell_type": "markdown",
   "metadata": {},
   "source": [
    "## Matrix Multiplication\n",
    "\n",
    "\n",
    "The transformation discussion give us a interesting view on what is matrix multiplication:\n",
    "\n",
    "$$M_1 M_2 M_3 \\ldots $$\n",
    "\n",
    "are essentially saying apply $M_3$ transformation first, then $M_2$, then $M_1$, from right to left. This should remind us the composition of functions $f(g(x))$. We are here composing matrices by finding out the product of matrices.\n",
    " \n",
    "\n",
    "Here, instead of doing regular dot product, which is:\n",
    "$$\\text{rows} \\times \\text{columns}$$ We look at the other ways around, which would be \n",
    "$$\\text{columns} \\times \\text{rows}$$\n",
    "\n",
    "The following code demos both ways"
   ]
  },
  {
   "cell_type": "code",
   "execution_count": 3,
   "metadata": {},
   "outputs": [
    {
     "output_type": "execute_result",
     "data": {
      "text/plain": "array([[12, 26, 40],\n       [15, 33, 51],\n       [23, 53, 83]])"
     },
     "metadata": {},
     "execution_count": 3
    }
   ],
   "source": [
    "import numpy as np \n",
    "A = np.array([\n",
    "    [2, 5],\n",
    "    [3, 6],\n",
    "    [7, 8]\n",
    "])\n",
    "B = np.array([\n",
    "    [1,3,5],\n",
    "    [2,4,6]\n",
    "])\n",
    "np.dot(A,B)"
   ]
  },
  {
   "cell_type": "code",
   "execution_count": 4,
   "metadata": {},
   "outputs": [
    {
     "output_type": "execute_result",
     "data": {
      "text/plain": "array([[12, 26, 40],\n       [15, 33, 51],\n       [18, 40, 62]])"
     },
     "metadata": {},
     "execution_count": 4
    }
   ],
   "source": [
    "A_col_1 = np.array([\n",
    "    [2],\n",
    "    [3],\n",
    "    [4]\n",
    "])\n",
    "B_row_1 = np.array([\n",
    "    [1,3,5]\n",
    "])\n",
    "\n",
    "A_col_2 = np.array([\n",
    "    [5],\n",
    "    [6],\n",
    "    [7]\n",
    "])\n",
    "\n",
    "B_row_2 = np.array([\n",
    "    [2,4,6]\n",
    "])\n",
    "\n",
    "np.dot(A_col_1, B_row_1) + np.dot(A_col_2, B_row_2)"
   ]
  },
  {
   "cell_type": "markdown",
   "metadata": {},
   "source": [
    "## Column Rank\n",
    "\n",
    "The rank of $A$ is the number of vector basis: $$C(A) = 2$$\n",
    "\n",
    "Another property is: column rank equals to the row rank.\n",
    "\n",
    "## Matrix factorization\n",
    "\n",
    "\\begin{align} A &= \\begin{bmatrix}\n",
    "                        2 & 5 & 7 \\\\\n",
    "                        3 & 6 & 9 \\\\\n",
    "                        4 & 7 & 11 \\\\\n",
    "                        \\end{bmatrix} \n",
    "                    \n",
    "    &= \\begin{bmatrix}\n",
    "                        2 & 5 \\\\\n",
    "                        3 & 6  \\\\\n",
    "                        4 & 7 \\\\\n",
    "                        \\end{bmatrix} \n",
    "        \\begin{bmatrix}\n",
    "        1 & 0 & 1 \\\\\n",
    "        0 & 1 & 1  \\\\\n",
    "        \\end{bmatrix} \\\\\n",
    "    &= C R \n",
    "\\end{align}\n",
    "\n",
    "Make sense of this decomposition: \n",
    "* to have $[2, 3, 4]$ from $A$, we need 1 column basis \n",
    "$[2, 3, 4]$ and zero column basis of $[5, 6, 7]$, so we end with \n",
    "$\\begin{bmatrix} 1 \\\\ 0 \\end{bmatrix}$ \n",
    "* to have $[5, 6, 7]$ from $A$, we need zero first column basis, and one second column basis, so we have $\\begin{bmatrix} 0 \\\\  1\\end{bmatrix}$\n",
    "* to have $[7, 9, 11]$, we need 1 first column basis plus one second column basis, so we have $\\begin{bmatrix} 1 \\\\  1\\end{bmatrix}$.\n",
    "\n"
   ]
  },
  {
   "cell_type": "markdown",
   "metadata": {},
   "source": [
    "## Inverse\n",
    "\n",
    "* Matrix $A$'s inverse is $A^{-1}$, and $A A^{-1} = I$, $I$ is the identity matrix.\n",
    "\n",
    "* Matrix $AB$'s inverse is $B^{-1}A^{-1}$ in that order, since $(AB)(B^{-1}A^{-1}) = I$\n",
    "\n",
    "## Eigenvalue and Eigenvector\n",
    "\n"
   ]
  },
  {
   "cell_type": "code",
   "execution_count": null,
   "metadata": {},
   "outputs": [],
   "source": []
  }
 ]
}