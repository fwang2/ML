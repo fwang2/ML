{
 "metadata": {
  "language_info": {
   "codemirror_mode": {
    "name": "ipython",
    "version": 3
   },
   "file_extension": ".py",
   "mimetype": "text/x-python",
   "name": "python",
   "nbconvert_exporter": "python",
   "pygments_lexer": "ipython3",
   "version": 3
  },
  "orig_nbformat": 2,
  "kernelspec": {
   "name": "python_defaultSpec_1596539672119",
   "display_name": "Python 3.8.3 64-bit"
  }
 },
 "nbformat": 4,
 "nbformat_minor": 2,
 "cells": [
  {
   "cell_type": "markdown",
   "metadata": {},
   "source": [
    "# Linear Algebra Review\n",
    "\n",
    "This note looks at Linear Algebra from ML and data analytics point of view.\n",
    "\n",
    "## Revisit Matrix \n",
    "\n",
    "One aspect of \"fresh look\" is, not to see matrix vector multiplication as dot product. Instead, see this as a *linear combination* of column vectors.\n",
    "\n",
    "\\begin{align} Ax &= \\begin{bmatrix}\n",
    "                        2 & 5 & 7 \\\\\n",
    "                        3 & 6 & 9 \\\\\n",
    "                        4 & 7 & 11 \\\\\n",
    "                        \\end{bmatrix} \n",
    "                    \n",
    "                        \\begin{bmatrix}\n",
    "                        x_1 \\\\\n",
    "                        x_2 \\\\\n",
    "                        x_3 \\\\\n",
    "                        \\end{bmatrix} \\\\\n",
    "                &= x_1 \\begin{bmatrix}\n",
    "                    2 \\\\\n",
    "                    3 \\\\\n",
    "                    4 \\\\\n",
    "                    \\end{bmatrix} + \\quad\n",
    "                    x_2 \\begin{bmatrix}\n",
    "                    5 \\\\\n",
    "                    6 \\\\\n",
    "                    7 \\\\\n",
    "                    \\end{bmatrix} + \\quad\n",
    "                    x_3 \\begin{bmatrix}\n",
    "                    7 \\\\\n",
    "                    9 \\\\\n",
    "                    11 \\\\\n",
    "                    \\end{bmatrix}\n",
    "\n",
    "\\end{align}\n",
    "\n",
    "\n",
    "## Column space and vector basis\n",
    "\n",
    "Matrices have column space and row space. A column space is what can be represented by *ALL* the linear combination of vector basis of that space. A row space, on the other hand, can be see as the column space of the transposed matrix.\n",
    "\n",
    "What is the vector basis? Using above $A$ as an example:\n",
    "\n",
    "\\begin{bmatrix} 2 \\\\ 3 \\\\ 4 \\\\ \\end{bmatrix} and \\begin{bmatrix} 5 \\\\ 6\\\\ 7 \\\\ \\end{bmatrix} are column vector basis. The third one is not, because it is a linear combination of the first two (sum of both).\n",
    "\n",
    "Two extra points:\n",
    "\n",
    "\n",
    "* With that column space in mind, if we pick a random vector $x$, then $Ax$ will in the column space of $A$ - as $Ax$ gives you just one linear combination of columns.\n",
    "\n",
    "* $ABCx = A(BCx) = Ay$, which means $ABCx$ is also in the column space of $A$.\n",
    " \n",
    "\n",
    "## Column Rank\n",
    "\n",
    "The rank of $A$ is the number of vector basis: $$C(A) = 2$$\n",
    "\n",
    "Another property is: column rank equals to the row rank.\n",
    "\n",
    "## Matrix factorization\n",
    "\n",
    "\\begin{align} A &= \\begin{bmatrix}\n",
    "                        2 & 5 & 7 \\\\\n",
    "                        3 & 6 & 9 \\\\\n",
    "                        4 & 7 & 11 \\\\\n",
    "                        \\end{bmatrix} \n",
    "                    \n",
    "    &= \\begin{bmatrix}\n",
    "                        2 & 5 \\\\\n",
    "                        3 & 6  \\\\\n",
    "                        4 & 7 \\\\\n",
    "                        \\end{bmatrix} \n",
    "        \\begin{bmatrix}\n",
    "        1 & 0 & 1 \\\\\n",
    "        0 & 1 & 1  \\\\\n",
    "        \\end{bmatrix} \\\\\n",
    "    &= C R \n",
    "\\end{align}\n",
    "\n",
    "Make sense of this decomposition: \n",
    "* to have $[2, 3, 4]$ from $A$, we need 1 column basis \n",
    "$[2, 3, 4]$ and zero column basis of $[5, 6, 7]$, so we end with \n",
    "$\\begin{bmatrix} 1 \\\\ 0 \\end{bmatrix}$ \n",
    "* to have $[5, 6, 7]$ from $A$, we need zero first column basis, and one second column basis, so we have $\\begin{bmatrix} 0 \\\\  1\\end{bmatrix}$\n",
    "* to have $[7, 9, 11]$, we need 1 first column basis plus one second column basis, so we have $\\begin{bmatrix} 1 \\\\  1\\end{bmatrix}$.\n",
    "\n"
   ]
  },
  {
   "cell_type": "markdown",
   "metadata": {},
   "source": [
    "## Matrix Multiplication\n",
    "\n",
    "Here, instead of doing regular dot product, which is:\n",
    "$$\\text{rows} \\times \\text{columns}$$ We look at the other ways around, which would be \n",
    "$$\\text{columns} \\times \\text{rows}$$\n",
    "\n",
    "The following code demos both ways"
   ]
  },
  {
   "cell_type": "code",
   "execution_count": 3,
   "metadata": {},
   "outputs": [
    {
     "output_type": "execute_result",
     "data": {
      "text/plain": "array([[12, 26, 40],\n       [15, 33, 51],\n       [23, 53, 83]])"
     },
     "metadata": {},
     "execution_count": 3
    }
   ],
   "source": [
    "import numpy as np \n",
    "A = np.array([\n",
    "    [2, 5],\n",
    "    [3, 6],\n",
    "    [7, 8]\n",
    "])\n",
    "B = np.array([\n",
    "    [1,3,5],\n",
    "    [2,4,6]\n",
    "])\n",
    "np.dot(A,B)"
   ]
  },
  {
   "cell_type": "code",
   "execution_count": 4,
   "metadata": {},
   "outputs": [
    {
     "output_type": "execute_result",
     "data": {
      "text/plain": "array([[12, 26, 40],\n       [15, 33, 51],\n       [18, 40, 62]])"
     },
     "metadata": {},
     "execution_count": 4
    }
   ],
   "source": [
    "A_col_1 = np.array([\n",
    "    [2],\n",
    "    [3],\n",
    "    [4]\n",
    "])\n",
    "B_row_1 = np.array([\n",
    "    [1,3,5]\n",
    "])\n",
    "\n",
    "A_col_2 = np.array([\n",
    "    [5],\n",
    "    [6],\n",
    "    [7]\n",
    "])\n",
    "\n",
    "B_row_2 = np.array([\n",
    "    [2,4,6]\n",
    "])\n",
    "\n",
    "np.dot(A_col_1, B_row_1) + np.dot(A_col_2, B_row_2)"
   ]
  },
  {
   "cell_type": "code",
   "execution_count": null,
   "metadata": {},
   "outputs": [],
   "source": []
  }
 ]
}